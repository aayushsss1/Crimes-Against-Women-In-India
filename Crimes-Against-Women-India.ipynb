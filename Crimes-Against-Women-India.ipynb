{
  "nbformat": 4,
  "nbformat_minor": 0,
  "metadata": {
    "colab": {
      "name": "Crimes_Against_Women(India).ipynb",
      "provenance": [],
      "collapsed_sections": [],
      "authorship_tag": "ABX9TyOfFWJvIFwTOkpfp6V8TLLc",
      "include_colab_link": true
    },
    "kernelspec": {
      "name": "python3",
      "display_name": "Python 3"
    },
    "language_info": {
      "name": "python"
    }
  },
  "cells": [
    {
      "cell_type": "markdown",
      "metadata": {
        "id": "view-in-github",
        "colab_type": "text"
      },
      "source": [
        "<a href=\"https://colab.research.google.com/github/aayushsss1/Crimes-Against-Women-In-India/blob/main/Crimes_Against_Women(India).ipynb\" target=\"_parent\"><img src=\"https://colab.research.google.com/assets/colab-badge.svg\" alt=\"Open In Colab\"/></a>"
      ]
    },
    {
      "cell_type": "markdown",
      "metadata": {
        "id": "ztmRN-PotuCg"
      },
      "source": [
        "## Crimes Against Women in India - data preprocessing\n",
        "\n",
        "---\n",
        "\n"
      ]
    },
    {
      "cell_type": "code",
      "metadata": {
        "colab": {
          "base_uri": "https://localhost:8080/"
        },
        "id": "cGP4TifCb8lt",
        "outputId": "c7dad25e-9e80-461e-b5f2-98dd3ce7b5f0"
      },
      "source": [
        "!pip install geopandas"
      ],
      "execution_count": 1,
      "outputs": [
        {
          "output_type": "stream",
          "text": [
            "Collecting geopandas\n",
            "\u001b[?25l  Downloading https://files.pythonhosted.org/packages/d7/bf/e9cefb69d39155d122b6ddca53893b61535fa6ffdad70bf5ef708977f53f/geopandas-0.9.0-py2.py3-none-any.whl (994kB)\n",
            "\u001b[K     |████████████████████████████████| 1.0MB 8.3MB/s \n",
            "\u001b[?25hCollecting pyproj>=2.2.0\n",
            "\u001b[?25l  Downloading https://files.pythonhosted.org/packages/11/1d/1c54c672c2faf08d28fe78e15d664c048f786225bef95ad87b6c435cf69e/pyproj-3.1.0-cp37-cp37m-manylinux2010_x86_64.whl (6.6MB)\n",
            "\u001b[K     |████████████████████████████████| 6.6MB 23.5MB/s \n",
            "\u001b[?25hRequirement already satisfied: pandas>=0.24.0 in /usr/local/lib/python3.7/dist-packages (from geopandas) (1.1.5)\n",
            "Requirement already satisfied: shapely>=1.6 in /usr/local/lib/python3.7/dist-packages (from geopandas) (1.7.1)\n",
            "Collecting fiona>=1.8\n",
            "\u001b[?25l  Downloading https://files.pythonhosted.org/packages/9c/fc/9807326c37a6bfb2393ae3e1cca147aa74844562c4d5daa782d6e97ad2bc/Fiona-1.8.20-cp37-cp37m-manylinux1_x86_64.whl (15.4MB)\n",
            "\u001b[K     |████████████████████████████████| 15.4MB 200kB/s \n",
            "\u001b[?25hRequirement already satisfied: certifi in /usr/local/lib/python3.7/dist-packages (from pyproj>=2.2.0->geopandas) (2020.12.5)\n",
            "Requirement already satisfied: pytz>=2017.2 in /usr/local/lib/python3.7/dist-packages (from pandas>=0.24.0->geopandas) (2018.9)\n",
            "Requirement already satisfied: numpy>=1.15.4 in /usr/local/lib/python3.7/dist-packages (from pandas>=0.24.0->geopandas) (1.19.5)\n",
            "Requirement already satisfied: python-dateutil>=2.7.3 in /usr/local/lib/python3.7/dist-packages (from pandas>=0.24.0->geopandas) (2.8.1)\n",
            "Collecting munch\n",
            "  Downloading https://files.pythonhosted.org/packages/cc/ab/85d8da5c9a45e072301beb37ad7f833cd344e04c817d97e0cc75681d248f/munch-2.5.0-py2.py3-none-any.whl\n",
            "Collecting click-plugins>=1.0\n",
            "  Downloading https://files.pythonhosted.org/packages/e9/da/824b92d9942f4e472702488857914bdd50f73021efea15b4cad9aca8ecef/click_plugins-1.1.1-py2.py3-none-any.whl\n",
            "Requirement already satisfied: attrs>=17 in /usr/local/lib/python3.7/dist-packages (from fiona>=1.8->geopandas) (21.2.0)\n",
            "Requirement already satisfied: setuptools in /usr/local/lib/python3.7/dist-packages (from fiona>=1.8->geopandas) (57.0.0)\n",
            "Collecting cligj>=0.5\n",
            "  Downloading https://files.pythonhosted.org/packages/73/86/43fa9f15c5b9fb6e82620428827cd3c284aa933431405d1bcf5231ae3d3e/cligj-0.7.2-py3-none-any.whl\n",
            "Requirement already satisfied: six>=1.7 in /usr/local/lib/python3.7/dist-packages (from fiona>=1.8->geopandas) (1.15.0)\n",
            "Requirement already satisfied: click>=4.0 in /usr/local/lib/python3.7/dist-packages (from fiona>=1.8->geopandas) (7.1.2)\n",
            "Installing collected packages: pyproj, munch, click-plugins, cligj, fiona, geopandas\n",
            "Successfully installed click-plugins-1.1.1 cligj-0.7.2 fiona-1.8.20 geopandas-0.9.0 munch-2.5.0 pyproj-3.1.0\n"
          ],
          "name": "stdout"
        }
      ]
    },
    {
      "cell_type": "code",
      "metadata": {
        "id": "cKiKh_rJclFx"
      },
      "source": [
        "import pandas as pd\n",
        "import numpy as np\n",
        "import matplotlib.pyplot as plt\n",
        "import geopandas as gpd\n",
        "import seaborn as sns"
      ],
      "execution_count": 2,
      "outputs": []
    },
    {
      "cell_type": "code",
      "metadata": {
        "id": "NkSPZy8KcuiF"
      },
      "source": [
        "df = pd.read_csv('crimes_against_women_2001-2014.csv')"
      ],
      "execution_count": 3,
      "outputs": []
    },
    {
      "cell_type": "code",
      "metadata": {
        "colab": {
          "base_uri": "https://localhost:8080/"
        },
        "id": "AQ8Op7X9c5EI",
        "outputId": "03adcc74-d70e-4448-e25c-6031a616b3c6"
      },
      "source": [
        "df.info()"
      ],
      "execution_count": 4,
      "outputs": [
        {
          "output_type": "stream",
          "text": [
            "<class 'pandas.core.frame.DataFrame'>\n",
            "RangeIndex: 10677 entries, 0 to 10676\n",
            "Data columns (total 11 columns):\n",
            " #   Column                                               Non-Null Count  Dtype \n",
            "---  ------                                               --------------  ----- \n",
            " 0   Unnamed: 0                                           10677 non-null  int64 \n",
            " 1   STATE/UT                                             10677 non-null  object\n",
            " 2   DISTRICT                                             10677 non-null  object\n",
            " 3   Year                                                 10677 non-null  int64 \n",
            " 4   Rape                                                 10677 non-null  int64 \n",
            " 5   Kidnapping and Abduction                             10677 non-null  int64 \n",
            " 6   Dowry Deaths                                         10677 non-null  int64 \n",
            " 7   Assault on women with intent to outrage her modesty  10677 non-null  int64 \n",
            " 8   Insult to modesty of Women                           10677 non-null  int64 \n",
            " 9   Cruelty by Husband or his Relatives                  10677 non-null  int64 \n",
            " 10  Importation of Girls                                 10677 non-null  int64 \n",
            "dtypes: int64(9), object(2)\n",
            "memory usage: 917.7+ KB\n"
          ],
          "name": "stdout"
        }
      ]
    },
    {
      "cell_type": "code",
      "metadata": {
        "colab": {
          "base_uri": "https://localhost:8080/",
          "height": 323
        },
        "id": "Z8E4k0iic_rX",
        "outputId": "794e8b3b-47c1-4444-d69b-a3ead1dd6690"
      },
      "source": [
        "df.head()"
      ],
      "execution_count": 5,
      "outputs": [
        {
          "output_type": "execute_result",
          "data": {
            "text/html": [
              "<div>\n",
              "<style scoped>\n",
              "    .dataframe tbody tr th:only-of-type {\n",
              "        vertical-align: middle;\n",
              "    }\n",
              "\n",
              "    .dataframe tbody tr th {\n",
              "        vertical-align: top;\n",
              "    }\n",
              "\n",
              "    .dataframe thead th {\n",
              "        text-align: right;\n",
              "    }\n",
              "</style>\n",
              "<table border=\"1\" class=\"dataframe\">\n",
              "  <thead>\n",
              "    <tr style=\"text-align: right;\">\n",
              "      <th></th>\n",
              "      <th>Unnamed: 0</th>\n",
              "      <th>STATE/UT</th>\n",
              "      <th>DISTRICT</th>\n",
              "      <th>Year</th>\n",
              "      <th>Rape</th>\n",
              "      <th>Kidnapping and Abduction</th>\n",
              "      <th>Dowry Deaths</th>\n",
              "      <th>Assault on women with intent to outrage her modesty</th>\n",
              "      <th>Insult to modesty of Women</th>\n",
              "      <th>Cruelty by Husband or his Relatives</th>\n",
              "      <th>Importation of Girls</th>\n",
              "    </tr>\n",
              "  </thead>\n",
              "  <tbody>\n",
              "    <tr>\n",
              "      <th>0</th>\n",
              "      <td>0</td>\n",
              "      <td>ANDHRA PRADESH</td>\n",
              "      <td>ADILABAD</td>\n",
              "      <td>2001</td>\n",
              "      <td>50</td>\n",
              "      <td>30</td>\n",
              "      <td>16</td>\n",
              "      <td>149</td>\n",
              "      <td>34</td>\n",
              "      <td>175</td>\n",
              "      <td>0</td>\n",
              "    </tr>\n",
              "    <tr>\n",
              "      <th>1</th>\n",
              "      <td>1</td>\n",
              "      <td>ANDHRA PRADESH</td>\n",
              "      <td>ANANTAPUR</td>\n",
              "      <td>2001</td>\n",
              "      <td>23</td>\n",
              "      <td>30</td>\n",
              "      <td>7</td>\n",
              "      <td>118</td>\n",
              "      <td>24</td>\n",
              "      <td>154</td>\n",
              "      <td>0</td>\n",
              "    </tr>\n",
              "    <tr>\n",
              "      <th>2</th>\n",
              "      <td>2</td>\n",
              "      <td>ANDHRA PRADESH</td>\n",
              "      <td>CHITTOOR</td>\n",
              "      <td>2001</td>\n",
              "      <td>27</td>\n",
              "      <td>34</td>\n",
              "      <td>14</td>\n",
              "      <td>112</td>\n",
              "      <td>83</td>\n",
              "      <td>186</td>\n",
              "      <td>0</td>\n",
              "    </tr>\n",
              "    <tr>\n",
              "      <th>3</th>\n",
              "      <td>3</td>\n",
              "      <td>ANDHRA PRADESH</td>\n",
              "      <td>CUDDAPAH</td>\n",
              "      <td>2001</td>\n",
              "      <td>20</td>\n",
              "      <td>20</td>\n",
              "      <td>17</td>\n",
              "      <td>126</td>\n",
              "      <td>38</td>\n",
              "      <td>57</td>\n",
              "      <td>0</td>\n",
              "    </tr>\n",
              "    <tr>\n",
              "      <th>4</th>\n",
              "      <td>4</td>\n",
              "      <td>ANDHRA PRADESH</td>\n",
              "      <td>EAST GODAVARI</td>\n",
              "      <td>2001</td>\n",
              "      <td>23</td>\n",
              "      <td>26</td>\n",
              "      <td>12</td>\n",
              "      <td>109</td>\n",
              "      <td>58</td>\n",
              "      <td>247</td>\n",
              "      <td>0</td>\n",
              "    </tr>\n",
              "  </tbody>\n",
              "</table>\n",
              "</div>"
            ],
            "text/plain": [
              "   Unnamed: 0  ... Importation of Girls\n",
              "0           0  ...                    0\n",
              "1           1  ...                    0\n",
              "2           2  ...                    0\n",
              "3           3  ...                    0\n",
              "4           4  ...                    0\n",
              "\n",
              "[5 rows x 11 columns]"
            ]
          },
          "metadata": {
            "tags": []
          },
          "execution_count": 5
        }
      ]
    },
    {
      "cell_type": "markdown",
      "metadata": {
        "id": "u6NZiQDMqMUI"
      },
      "source": [
        "Dropping the extra unnecessary column - Unnamed: 0"
      ]
    },
    {
      "cell_type": "code",
      "metadata": {
        "id": "DbDRUIszdCho"
      },
      "source": [
        "df = df.drop(columns = 'Unnamed: 0')"
      ],
      "execution_count": 6,
      "outputs": []
    },
    {
      "cell_type": "code",
      "metadata": {
        "colab": {
          "base_uri": "https://localhost:8080/",
          "height": 323
        },
        "id": "gzm3M4CHdVIO",
        "outputId": "0fa910df-61d4-4e87-f6f6-569ac54eddb0"
      },
      "source": [
        "df.head()"
      ],
      "execution_count": 7,
      "outputs": [
        {
          "output_type": "execute_result",
          "data": {
            "text/html": [
              "<div>\n",
              "<style scoped>\n",
              "    .dataframe tbody tr th:only-of-type {\n",
              "        vertical-align: middle;\n",
              "    }\n",
              "\n",
              "    .dataframe tbody tr th {\n",
              "        vertical-align: top;\n",
              "    }\n",
              "\n",
              "    .dataframe thead th {\n",
              "        text-align: right;\n",
              "    }\n",
              "</style>\n",
              "<table border=\"1\" class=\"dataframe\">\n",
              "  <thead>\n",
              "    <tr style=\"text-align: right;\">\n",
              "      <th></th>\n",
              "      <th>STATE/UT</th>\n",
              "      <th>DISTRICT</th>\n",
              "      <th>Year</th>\n",
              "      <th>Rape</th>\n",
              "      <th>Kidnapping and Abduction</th>\n",
              "      <th>Dowry Deaths</th>\n",
              "      <th>Assault on women with intent to outrage her modesty</th>\n",
              "      <th>Insult to modesty of Women</th>\n",
              "      <th>Cruelty by Husband or his Relatives</th>\n",
              "      <th>Importation of Girls</th>\n",
              "    </tr>\n",
              "  </thead>\n",
              "  <tbody>\n",
              "    <tr>\n",
              "      <th>0</th>\n",
              "      <td>ANDHRA PRADESH</td>\n",
              "      <td>ADILABAD</td>\n",
              "      <td>2001</td>\n",
              "      <td>50</td>\n",
              "      <td>30</td>\n",
              "      <td>16</td>\n",
              "      <td>149</td>\n",
              "      <td>34</td>\n",
              "      <td>175</td>\n",
              "      <td>0</td>\n",
              "    </tr>\n",
              "    <tr>\n",
              "      <th>1</th>\n",
              "      <td>ANDHRA PRADESH</td>\n",
              "      <td>ANANTAPUR</td>\n",
              "      <td>2001</td>\n",
              "      <td>23</td>\n",
              "      <td>30</td>\n",
              "      <td>7</td>\n",
              "      <td>118</td>\n",
              "      <td>24</td>\n",
              "      <td>154</td>\n",
              "      <td>0</td>\n",
              "    </tr>\n",
              "    <tr>\n",
              "      <th>2</th>\n",
              "      <td>ANDHRA PRADESH</td>\n",
              "      <td>CHITTOOR</td>\n",
              "      <td>2001</td>\n",
              "      <td>27</td>\n",
              "      <td>34</td>\n",
              "      <td>14</td>\n",
              "      <td>112</td>\n",
              "      <td>83</td>\n",
              "      <td>186</td>\n",
              "      <td>0</td>\n",
              "    </tr>\n",
              "    <tr>\n",
              "      <th>3</th>\n",
              "      <td>ANDHRA PRADESH</td>\n",
              "      <td>CUDDAPAH</td>\n",
              "      <td>2001</td>\n",
              "      <td>20</td>\n",
              "      <td>20</td>\n",
              "      <td>17</td>\n",
              "      <td>126</td>\n",
              "      <td>38</td>\n",
              "      <td>57</td>\n",
              "      <td>0</td>\n",
              "    </tr>\n",
              "    <tr>\n",
              "      <th>4</th>\n",
              "      <td>ANDHRA PRADESH</td>\n",
              "      <td>EAST GODAVARI</td>\n",
              "      <td>2001</td>\n",
              "      <td>23</td>\n",
              "      <td>26</td>\n",
              "      <td>12</td>\n",
              "      <td>109</td>\n",
              "      <td>58</td>\n",
              "      <td>247</td>\n",
              "      <td>0</td>\n",
              "    </tr>\n",
              "  </tbody>\n",
              "</table>\n",
              "</div>"
            ],
            "text/plain": [
              "         STATE/UT  ... Importation of Girls\n",
              "0  ANDHRA PRADESH  ...                    0\n",
              "1  ANDHRA PRADESH  ...                    0\n",
              "2  ANDHRA PRADESH  ...                    0\n",
              "3  ANDHRA PRADESH  ...                    0\n",
              "4  ANDHRA PRADESH  ...                    0\n",
              "\n",
              "[5 rows x 10 columns]"
            ]
          },
          "metadata": {
            "tags": []
          },
          "execution_count": 7
        }
      ]
    },
    {
      "cell_type": "markdown",
      "metadata": {
        "id": "ilMsg2S4qbAA"
      },
      "source": [
        "Search for any Null Values in the dataset\n"
      ]
    },
    {
      "cell_type": "code",
      "metadata": {
        "colab": {
          "base_uri": "https://localhost:8080/"
        },
        "id": "fmresmj3dXXn",
        "outputId": "b3411219-b5db-4af0-c480-06d1533b9425"
      },
      "source": [
        "df.isna().sum()"
      ],
      "execution_count": 8,
      "outputs": [
        {
          "output_type": "execute_result",
          "data": {
            "text/plain": [
              "STATE/UT                                               0\n",
              "DISTRICT                                               0\n",
              "Year                                                   0\n",
              "Rape                                                   0\n",
              "Kidnapping and Abduction                               0\n",
              "Dowry Deaths                                           0\n",
              "Assault on women with intent to outrage her modesty    0\n",
              "Insult to modesty of Women                             0\n",
              "Cruelty by Husband or his Relatives                    0\n",
              "Importation of Girls                                   0\n",
              "dtype: int64"
            ]
          },
          "metadata": {
            "tags": []
          },
          "execution_count": 8
        }
      ]
    },
    {
      "cell_type": "code",
      "metadata": {
        "colab": {
          "base_uri": "https://localhost:8080/",
          "height": 331
        },
        "id": "JPWW-INSda94",
        "outputId": "51e893b2-7932-4002-830c-91727fb130cc"
      },
      "source": [
        "df.describe()"
      ],
      "execution_count": 9,
      "outputs": [
        {
          "output_type": "execute_result",
          "data": {
            "text/html": [
              "<div>\n",
              "<style scoped>\n",
              "    .dataframe tbody tr th:only-of-type {\n",
              "        vertical-align: middle;\n",
              "    }\n",
              "\n",
              "    .dataframe tbody tr th {\n",
              "        vertical-align: top;\n",
              "    }\n",
              "\n",
              "    .dataframe thead th {\n",
              "        text-align: right;\n",
              "    }\n",
              "</style>\n",
              "<table border=\"1\" class=\"dataframe\">\n",
              "  <thead>\n",
              "    <tr style=\"text-align: right;\">\n",
              "      <th></th>\n",
              "      <th>Year</th>\n",
              "      <th>Rape</th>\n",
              "      <th>Kidnapping and Abduction</th>\n",
              "      <th>Dowry Deaths</th>\n",
              "      <th>Assault on women with intent to outrage her modesty</th>\n",
              "      <th>Insult to modesty of Women</th>\n",
              "      <th>Cruelty by Husband or his Relatives</th>\n",
              "      <th>Importation of Girls</th>\n",
              "    </tr>\n",
              "  </thead>\n",
              "  <tbody>\n",
              "    <tr>\n",
              "      <th>count</th>\n",
              "      <td>10677.000000</td>\n",
              "      <td>10677.000000</td>\n",
              "      <td>10677.000000</td>\n",
              "      <td>10677.000000</td>\n",
              "      <td>10677.000000</td>\n",
              "      <td>10677.000000</td>\n",
              "      <td>10677.000000</td>\n",
              "      <td>10677.000000</td>\n",
              "    </tr>\n",
              "    <tr>\n",
              "      <th>mean</th>\n",
              "      <td>2007.697949</td>\n",
              "      <td>57.989885</td>\n",
              "      <td>69.888358</td>\n",
              "      <td>20.181699</td>\n",
              "      <td>113.539196</td>\n",
              "      <td>27.419313</td>\n",
              "      <td>209.224314</td>\n",
              "      <td>0.175330</td>\n",
              "    </tr>\n",
              "    <tr>\n",
              "      <th>std</th>\n",
              "      <td>4.046874</td>\n",
              "      <td>214.230398</td>\n",
              "      <td>311.623450</td>\n",
              "      <td>98.276531</td>\n",
              "      <td>458.903951</td>\n",
              "      <td>167.806797</td>\n",
              "      <td>905.664362</td>\n",
              "      <td>2.228637</td>\n",
              "    </tr>\n",
              "    <tr>\n",
              "      <th>min</th>\n",
              "      <td>2001.000000</td>\n",
              "      <td>0.000000</td>\n",
              "      <td>0.000000</td>\n",
              "      <td>0.000000</td>\n",
              "      <td>0.000000</td>\n",
              "      <td>0.000000</td>\n",
              "      <td>0.000000</td>\n",
              "      <td>0.000000</td>\n",
              "    </tr>\n",
              "    <tr>\n",
              "      <th>25%</th>\n",
              "      <td>2004.000000</td>\n",
              "      <td>8.000000</td>\n",
              "      <td>6.000000</td>\n",
              "      <td>1.000000</td>\n",
              "      <td>10.000000</td>\n",
              "      <td>0.000000</td>\n",
              "      <td>11.000000</td>\n",
              "      <td>0.000000</td>\n",
              "    </tr>\n",
              "    <tr>\n",
              "      <th>50%</th>\n",
              "      <td>2008.000000</td>\n",
              "      <td>22.000000</td>\n",
              "      <td>20.000000</td>\n",
              "      <td>5.000000</td>\n",
              "      <td>34.000000</td>\n",
              "      <td>2.000000</td>\n",
              "      <td>50.000000</td>\n",
              "      <td>0.000000</td>\n",
              "    </tr>\n",
              "    <tr>\n",
              "      <th>75%</th>\n",
              "      <td>2011.000000</td>\n",
              "      <td>44.000000</td>\n",
              "      <td>49.000000</td>\n",
              "      <td>16.000000</td>\n",
              "      <td>85.000000</td>\n",
              "      <td>12.000000</td>\n",
              "      <td>144.000000</td>\n",
              "      <td>0.000000</td>\n",
              "    </tr>\n",
              "    <tr>\n",
              "      <th>max</th>\n",
              "      <td>2014.000000</td>\n",
              "      <td>5076.000000</td>\n",
              "      <td>10626.000000</td>\n",
              "      <td>2469.000000</td>\n",
              "      <td>10001.000000</td>\n",
              "      <td>4970.000000</td>\n",
              "      <td>23278.000000</td>\n",
              "      <td>83.000000</td>\n",
              "    </tr>\n",
              "  </tbody>\n",
              "</table>\n",
              "</div>"
            ],
            "text/plain": [
              "               Year  ...  Importation of Girls\n",
              "count  10677.000000  ...          10677.000000\n",
              "mean    2007.697949  ...              0.175330\n",
              "std        4.046874  ...              2.228637\n",
              "min     2001.000000  ...              0.000000\n",
              "25%     2004.000000  ...              0.000000\n",
              "50%     2008.000000  ...              0.000000\n",
              "75%     2011.000000  ...              0.000000\n",
              "max     2014.000000  ...             83.000000\n",
              "\n",
              "[8 rows x 8 columns]"
            ]
          },
          "metadata": {
            "tags": []
          },
          "execution_count": 9
        }
      ]
    },
    {
      "cell_type": "code",
      "metadata": {
        "colab": {
          "base_uri": "https://localhost:8080/"
        },
        "id": "jsTMhIOjdjkj",
        "outputId": "670604d2-2a73-4148-8ec2-c0ee3be71087"
      },
      "source": [
        "df['STATE/UT'].unique()"
      ],
      "execution_count": 10,
      "outputs": [
        {
          "output_type": "execute_result",
          "data": {
            "text/plain": [
              "array(['ANDHRA PRADESH', 'ARUNACHAL PRADESH', 'ASSAM', 'BIHAR',\n",
              "       'CHHATTISGARH', 'GOA', 'GUJARAT', 'HARYANA', 'HIMACHAL PRADESH',\n",
              "       'JAMMU & KASHMIR', 'JHARKHAND', 'KARNATAKA', 'KERALA',\n",
              "       'MADHYA PRADESH', 'MAHARASHTRA', 'MANIPUR', 'MEGHALAYA', 'MIZORAM',\n",
              "       'NAGALAND', 'ODISHA', 'PUNJAB', 'RAJASTHAN', 'SIKKIM',\n",
              "       'TAMIL NADU', 'TRIPURA', 'UTTAR PRADESH', 'UTTARAKHAND',\n",
              "       'WEST BENGAL', 'A & N ISLANDS', 'CHANDIGARH', 'D & N HAVELI',\n",
              "       'DAMAN & DIU', 'DELHI', 'LAKSHADWEEP', 'PUDUCHERRY',\n",
              "       'Andhra Pradesh', 'Arunachal Pradesh', 'Assam', 'Bihar',\n",
              "       'Chhattisgarh', 'Goa', 'Gujarat', 'Haryana', 'Himachal Pradesh',\n",
              "       'Jammu & Kashmir', 'Jharkhand', 'Karnataka', 'Kerala',\n",
              "       'Madhya Pradesh', 'Maharashtra', 'Manipur', 'Meghalaya', 'Mizoram',\n",
              "       'Nagaland', 'Odisha', 'Punjab', 'Rajasthan', 'Sikkim',\n",
              "       'Tamil Nadu', 'Tripura', 'Uttar Pradesh', 'Uttarakhand',\n",
              "       'West Bengal', 'A & n islands', 'Chandigarh', 'D & n haveli',\n",
              "       'Daman & Diu', 'Delhi', 'Lakshadweep', 'Puducherry', 'Telangana',\n",
              "       'A & N Islands'], dtype=object)"
            ]
          },
          "metadata": {
            "tags": []
          },
          "execution_count": 10
        }
      ]
    },
    {
      "cell_type": "markdown",
      "metadata": {
        "id": "Ec0Ur6-NqkCe"
      },
      "source": [
        "We can see that there are repititions of various states, hence we bring them to one format by making everything lower case"
      ]
    },
    {
      "cell_type": "code",
      "metadata": {
        "id": "5SqLHT8tgdvf"
      },
      "source": [
        "df['STATE/UT'] = df['STATE/UT'].str.lower()"
      ],
      "execution_count": 12,
      "outputs": []
    },
    {
      "cell_type": "code",
      "metadata": {
        "colab": {
          "base_uri": "https://localhost:8080/",
          "height": 323
        },
        "id": "5h0M0dErgk5-",
        "outputId": "b3df0f32-65d9-43e5-d185-a8fab5c30059"
      },
      "source": [
        "df.head()"
      ],
      "execution_count": 13,
      "outputs": [
        {
          "output_type": "execute_result",
          "data": {
            "text/html": [
              "<div>\n",
              "<style scoped>\n",
              "    .dataframe tbody tr th:only-of-type {\n",
              "        vertical-align: middle;\n",
              "    }\n",
              "\n",
              "    .dataframe tbody tr th {\n",
              "        vertical-align: top;\n",
              "    }\n",
              "\n",
              "    .dataframe thead th {\n",
              "        text-align: right;\n",
              "    }\n",
              "</style>\n",
              "<table border=\"1\" class=\"dataframe\">\n",
              "  <thead>\n",
              "    <tr style=\"text-align: right;\">\n",
              "      <th></th>\n",
              "      <th>STATE/UT</th>\n",
              "      <th>DISTRICT</th>\n",
              "      <th>Year</th>\n",
              "      <th>Rape</th>\n",
              "      <th>Kidnapping and Abduction</th>\n",
              "      <th>Dowry Deaths</th>\n",
              "      <th>Assault on women with intent to outrage her modesty</th>\n",
              "      <th>Insult to modesty of Women</th>\n",
              "      <th>Cruelty by Husband or his Relatives</th>\n",
              "      <th>Importation of Girls</th>\n",
              "    </tr>\n",
              "  </thead>\n",
              "  <tbody>\n",
              "    <tr>\n",
              "      <th>0</th>\n",
              "      <td>andhra pradesh</td>\n",
              "      <td>ADILABAD</td>\n",
              "      <td>2001</td>\n",
              "      <td>50</td>\n",
              "      <td>30</td>\n",
              "      <td>16</td>\n",
              "      <td>149</td>\n",
              "      <td>34</td>\n",
              "      <td>175</td>\n",
              "      <td>0</td>\n",
              "    </tr>\n",
              "    <tr>\n",
              "      <th>1</th>\n",
              "      <td>andhra pradesh</td>\n",
              "      <td>ANANTAPUR</td>\n",
              "      <td>2001</td>\n",
              "      <td>23</td>\n",
              "      <td>30</td>\n",
              "      <td>7</td>\n",
              "      <td>118</td>\n",
              "      <td>24</td>\n",
              "      <td>154</td>\n",
              "      <td>0</td>\n",
              "    </tr>\n",
              "    <tr>\n",
              "      <th>2</th>\n",
              "      <td>andhra pradesh</td>\n",
              "      <td>CHITTOOR</td>\n",
              "      <td>2001</td>\n",
              "      <td>27</td>\n",
              "      <td>34</td>\n",
              "      <td>14</td>\n",
              "      <td>112</td>\n",
              "      <td>83</td>\n",
              "      <td>186</td>\n",
              "      <td>0</td>\n",
              "    </tr>\n",
              "    <tr>\n",
              "      <th>3</th>\n",
              "      <td>andhra pradesh</td>\n",
              "      <td>CUDDAPAH</td>\n",
              "      <td>2001</td>\n",
              "      <td>20</td>\n",
              "      <td>20</td>\n",
              "      <td>17</td>\n",
              "      <td>126</td>\n",
              "      <td>38</td>\n",
              "      <td>57</td>\n",
              "      <td>0</td>\n",
              "    </tr>\n",
              "    <tr>\n",
              "      <th>4</th>\n",
              "      <td>andhra pradesh</td>\n",
              "      <td>EAST GODAVARI</td>\n",
              "      <td>2001</td>\n",
              "      <td>23</td>\n",
              "      <td>26</td>\n",
              "      <td>12</td>\n",
              "      <td>109</td>\n",
              "      <td>58</td>\n",
              "      <td>247</td>\n",
              "      <td>0</td>\n",
              "    </tr>\n",
              "  </tbody>\n",
              "</table>\n",
              "</div>"
            ],
            "text/plain": [
              "         STATE/UT  ... Importation of Girls\n",
              "0  andhra pradesh  ...                    0\n",
              "1  andhra pradesh  ...                    0\n",
              "2  andhra pradesh  ...                    0\n",
              "3  andhra pradesh  ...                    0\n",
              "4  andhra pradesh  ...                    0\n",
              "\n",
              "[5 rows x 10 columns]"
            ]
          },
          "metadata": {
            "tags": []
          },
          "execution_count": 13
        }
      ]
    },
    {
      "cell_type": "code",
      "metadata": {
        "colab": {
          "base_uri": "https://localhost:8080/"
        },
        "id": "I7z8AUyTgmd_",
        "outputId": "31a2b0ce-1b10-4563-afb5-240b4da55ea7"
      },
      "source": [
        "a=list(df['STATE/UT'].unique())\n",
        "a.sort()\n",
        "print(a)"
      ],
      "execution_count": 14,
      "outputs": [
        {
          "output_type": "stream",
          "text": [
            "['a & n islands', 'andhra pradesh', 'arunachal pradesh', 'assam', 'bihar', 'chandigarh', 'chhattisgarh', 'd & n haveli', 'daman & diu', 'delhi', 'goa', 'gujarat', 'haryana', 'himachal pradesh', 'jammu & kashmir', 'jharkhand', 'karnataka', 'kerala', 'lakshadweep', 'madhya pradesh', 'maharashtra', 'manipur', 'meghalaya', 'mizoram', 'nagaland', 'odisha', 'puducherry', 'punjab', 'rajasthan', 'sikkim', 'tamil nadu', 'telangana', 'tripura', 'uttar pradesh', 'uttarakhand', 'west bengal']\n"
          ],
          "name": "stdout"
        }
      ]
    },
    {
      "cell_type": "code",
      "metadata": {
        "colab": {
          "base_uri": "https://localhost:8080/"
        },
        "id": "8_FGpMgZmYb1",
        "outputId": "c5a51222-a507-452e-9c6b-7673759d15b4"
      },
      "source": [
        "df.columns"
      ],
      "execution_count": 15,
      "outputs": [
        {
          "output_type": "execute_result",
          "data": {
            "text/plain": [
              "Index(['STATE/UT', 'DISTRICT', 'Year', 'Rape', 'Kidnapping and Abduction',\n",
              "       'Dowry Deaths', 'Assault on women with intent to outrage her modesty',\n",
              "       'Insult to modesty of Women', 'Cruelty by Husband or his Relatives',\n",
              "       'Importation of Girls'],\n",
              "      dtype='object')"
            ]
          },
          "metadata": {
            "tags": []
          },
          "execution_count": 15
        }
      ]
    },
    {
      "cell_type": "markdown",
      "metadata": {
        "id": "10vqxL2GrGNJ"
      },
      "source": [
        "#Plotting the various crimes committed against women, throughout the years (2001-2014)"
      ]
    },
    {
      "cell_type": "code",
      "metadata": {
        "colab": {
          "base_uri": "https://localhost:8080/",
          "height": 585
        },
        "id": "j0pA47p3g8xX",
        "outputId": "34e5e312-0c8f-4f7c-c415-07fbdd6fdce3"
      },
      "source": [
        "df1=df.groupby(df['Year'])['Rape','Kidnapping and Abduction','Dowry Deaths','Assault on women with intent to outrage her modesty','Insult to modesty of Women','Cruelty by Husband or his Relatives','Importation of Girls'].sum()\n",
        "df1"
      ],
      "execution_count": 16,
      "outputs": [
        {
          "output_type": "stream",
          "text": [
            "/usr/local/lib/python3.7/dist-packages/ipykernel_launcher.py:1: FutureWarning: Indexing with multiple keys (implicitly converted to a tuple of keys) will be deprecated, use a list instead.\n",
            "  \"\"\"Entry point for launching an IPython kernel.\n"
          ],
          "name": "stderr"
        },
        {
          "output_type": "execute_result",
          "data": {
            "text/html": [
              "<div>\n",
              "<style scoped>\n",
              "    .dataframe tbody tr th:only-of-type {\n",
              "        vertical-align: middle;\n",
              "    }\n",
              "\n",
              "    .dataframe tbody tr th {\n",
              "        vertical-align: top;\n",
              "    }\n",
              "\n",
              "    .dataframe thead th {\n",
              "        text-align: right;\n",
              "    }\n",
              "</style>\n",
              "<table border=\"1\" class=\"dataframe\">\n",
              "  <thead>\n",
              "    <tr style=\"text-align: right;\">\n",
              "      <th></th>\n",
              "      <th>Rape</th>\n",
              "      <th>Kidnapping and Abduction</th>\n",
              "      <th>Dowry Deaths</th>\n",
              "      <th>Assault on women with intent to outrage her modesty</th>\n",
              "      <th>Insult to modesty of Women</th>\n",
              "      <th>Cruelty by Husband or his Relatives</th>\n",
              "      <th>Importation of Girls</th>\n",
              "    </tr>\n",
              "    <tr>\n",
              "      <th>Year</th>\n",
              "      <th></th>\n",
              "      <th></th>\n",
              "      <th></th>\n",
              "      <th></th>\n",
              "      <th></th>\n",
              "      <th></th>\n",
              "      <th></th>\n",
              "    </tr>\n",
              "  </thead>\n",
              "  <tbody>\n",
              "    <tr>\n",
              "      <th>2001</th>\n",
              "      <td>32150</td>\n",
              "      <td>29290</td>\n",
              "      <td>13702</td>\n",
              "      <td>68248</td>\n",
              "      <td>19492</td>\n",
              "      <td>98340</td>\n",
              "      <td>228</td>\n",
              "    </tr>\n",
              "    <tr>\n",
              "      <th>2002</th>\n",
              "      <td>32746</td>\n",
              "      <td>29012</td>\n",
              "      <td>13644</td>\n",
              "      <td>67886</td>\n",
              "      <td>20310</td>\n",
              "      <td>98474</td>\n",
              "      <td>152</td>\n",
              "    </tr>\n",
              "    <tr>\n",
              "      <th>2003</th>\n",
              "      <td>31694</td>\n",
              "      <td>26592</td>\n",
              "      <td>12416</td>\n",
              "      <td>65878</td>\n",
              "      <td>24650</td>\n",
              "      <td>101406</td>\n",
              "      <td>92</td>\n",
              "    </tr>\n",
              "    <tr>\n",
              "      <th>2004</th>\n",
              "      <td>36466</td>\n",
              "      <td>31156</td>\n",
              "      <td>14052</td>\n",
              "      <td>69134</td>\n",
              "      <td>20002</td>\n",
              "      <td>116242</td>\n",
              "      <td>178</td>\n",
              "    </tr>\n",
              "    <tr>\n",
              "      <th>2005</th>\n",
              "      <td>36718</td>\n",
              "      <td>31500</td>\n",
              "      <td>13574</td>\n",
              "      <td>68350</td>\n",
              "      <td>19968</td>\n",
              "      <td>116638</td>\n",
              "      <td>298</td>\n",
              "    </tr>\n",
              "    <tr>\n",
              "      <th>2006</th>\n",
              "      <td>38696</td>\n",
              "      <td>34828</td>\n",
              "      <td>15236</td>\n",
              "      <td>73234</td>\n",
              "      <td>19932</td>\n",
              "      <td>126256</td>\n",
              "      <td>134</td>\n",
              "    </tr>\n",
              "    <tr>\n",
              "      <th>2007</th>\n",
              "      <td>41474</td>\n",
              "      <td>40832</td>\n",
              "      <td>16186</td>\n",
              "      <td>77468</td>\n",
              "      <td>21900</td>\n",
              "      <td>151860</td>\n",
              "      <td>122</td>\n",
              "    </tr>\n",
              "    <tr>\n",
              "      <th>2008</th>\n",
              "      <td>42934</td>\n",
              "      <td>45878</td>\n",
              "      <td>16344</td>\n",
              "      <td>80826</td>\n",
              "      <td>24428</td>\n",
              "      <td>162688</td>\n",
              "      <td>134</td>\n",
              "    </tr>\n",
              "    <tr>\n",
              "      <th>2009</th>\n",
              "      <td>42794</td>\n",
              "      <td>51482</td>\n",
              "      <td>16766</td>\n",
              "      <td>77422</td>\n",
              "      <td>22018</td>\n",
              "      <td>179092</td>\n",
              "      <td>96</td>\n",
              "    </tr>\n",
              "    <tr>\n",
              "      <th>2010</th>\n",
              "      <td>44344</td>\n",
              "      <td>59590</td>\n",
              "      <td>16782</td>\n",
              "      <td>81226</td>\n",
              "      <td>19922</td>\n",
              "      <td>188082</td>\n",
              "      <td>72</td>\n",
              "    </tr>\n",
              "    <tr>\n",
              "      <th>2011</th>\n",
              "      <td>48412</td>\n",
              "      <td>71130</td>\n",
              "      <td>17236</td>\n",
              "      <td>85936</td>\n",
              "      <td>17140</td>\n",
              "      <td>198270</td>\n",
              "      <td>160</td>\n",
              "    </tr>\n",
              "    <tr>\n",
              "      <th>2012</th>\n",
              "      <td>49846</td>\n",
              "      <td>76524</td>\n",
              "      <td>16466</td>\n",
              "      <td>90702</td>\n",
              "      <td>18346</td>\n",
              "      <td>213054</td>\n",
              "      <td>118</td>\n",
              "    </tr>\n",
              "    <tr>\n",
              "      <th>2013</th>\n",
              "      <td>67414</td>\n",
              "      <td>103762</td>\n",
              "      <td>16166</td>\n",
              "      <td>141478</td>\n",
              "      <td>25178</td>\n",
              "      <td>237732</td>\n",
              "      <td>62</td>\n",
              "    </tr>\n",
              "    <tr>\n",
              "      <th>2014</th>\n",
              "      <td>73470</td>\n",
              "      <td>114622</td>\n",
              "      <td>16910</td>\n",
              "      <td>164470</td>\n",
              "      <td>19470</td>\n",
              "      <td>245754</td>\n",
              "      <td>26</td>\n",
              "    </tr>\n",
              "  </tbody>\n",
              "</table>\n",
              "</div>"
            ],
            "text/plain": [
              "       Rape  ...  Importation of Girls\n",
              "Year         ...                      \n",
              "2001  32150  ...                   228\n",
              "2002  32746  ...                   152\n",
              "2003  31694  ...                    92\n",
              "2004  36466  ...                   178\n",
              "2005  36718  ...                   298\n",
              "2006  38696  ...                   134\n",
              "2007  41474  ...                   122\n",
              "2008  42934  ...                   134\n",
              "2009  42794  ...                    96\n",
              "2010  44344  ...                    72\n",
              "2011  48412  ...                   160\n",
              "2012  49846  ...                   118\n",
              "2013  67414  ...                    62\n",
              "2014  73470  ...                    26\n",
              "\n",
              "[14 rows x 7 columns]"
            ]
          },
          "metadata": {
            "tags": []
          },
          "execution_count": 16
        }
      ]
    },
    {
      "cell_type": "code",
      "metadata": {
        "colab": {
          "base_uri": "https://localhost:8080/",
          "height": 495
        },
        "id": "MPkiDUaam2w-",
        "outputId": "91cfc314-b658-4e85-c6d2-a86c7ab31f8f"
      },
      "source": [
        "df1.plot(kind = 'line', figsize=(20, 7))\n",
        "plt.title('Crimes against women over the years')"
      ],
      "execution_count": 17,
      "outputs": [
        {
          "output_type": "execute_result",
          "data": {
            "text/plain": [
              "Text(0.5, 1.0, 'Crimes against women over the years')"
            ]
          },
          "metadata": {
            "tags": []
          },
          "execution_count": 17
        },
        {
          "output_type": "display_data",
          "data": {
            "image/png": "[encoded data removed]",
            "text/plain": [
              "<Figure size 1440x504 with 1 Axes>"
            ]
          },
          "metadata": {
            "tags": [],
            "needs_background": "light"
          }
        }
      ]
    },
    {
      "cell_type": "markdown",
      "metadata": {
        "id": "q6I7tyZPrbWM"
      },
      "source": [
        "We can see that crimes have infact risen in a span of 12 years, with domestic violence taking a sharp increase"
      ]
    },
    {
      "cell_type": "markdown",
      "metadata": {
        "id": "WLBqU_xnr_4X"
      },
      "source": [
        "#Plotting a bar graph to show the total increase in crimes throughout the years"
      ]
    },
    {
      "cell_type": "code",
      "metadata": {
        "id": "naJsx3luniqC"
      },
      "source": [
        "df['Total']=df['Rape']+df['Dowry Deaths'] +df['Kidnapping and Abduction']+df['Assault on women with intent to outrage her modesty']+df['Insult to modesty of Women']+df['Cruelty by Husband or his Relatives']+df['Importation of Girls']"
      ],
      "execution_count": 18,
      "outputs": []
    },
    {
      "cell_type": "code",
      "metadata": {
        "colab": {
          "base_uri": "https://localhost:8080/",
          "height": 323
        },
        "id": "C6hnXQxTx8hc",
        "outputId": "9fb00cf7-3249-4051-8144-c74f507e4e9d"
      },
      "source": [
        "df.head()"
      ],
      "execution_count": 19,
      "outputs": [
        {
          "output_type": "execute_result",
          "data": {
            "text/html": [
              "<div>\n",
              "<style scoped>\n",
              "    .dataframe tbody tr th:only-of-type {\n",
              "        vertical-align: middle;\n",
              "    }\n",
              "\n",
              "    .dataframe tbody tr th {\n",
              "        vertical-align: top;\n",
              "    }\n",
              "\n",
              "    .dataframe thead th {\n",
              "        text-align: right;\n",
              "    }\n",
              "</style>\n",
              "<table border=\"1\" class=\"dataframe\">\n",
              "  <thead>\n",
              "    <tr style=\"text-align: right;\">\n",
              "      <th></th>\n",
              "      <th>STATE/UT</th>\n",
              "      <th>DISTRICT</th>\n",
              "      <th>Year</th>\n",
              "      <th>Rape</th>\n",
              "      <th>Kidnapping and Abduction</th>\n",
              "      <th>Dowry Deaths</th>\n",
              "      <th>Assault on women with intent to outrage her modesty</th>\n",
              "      <th>Insult to modesty of Women</th>\n",
              "      <th>Cruelty by Husband or his Relatives</th>\n",
              "      <th>Importation of Girls</th>\n",
              "      <th>Total</th>\n",
              "    </tr>\n",
              "  </thead>\n",
              "  <tbody>\n",
              "    <tr>\n",
              "      <th>0</th>\n",
              "      <td>andhra pradesh</td>\n",
              "      <td>ADILABAD</td>\n",
              "      <td>2001</td>\n",
              "      <td>50</td>\n",
              "      <td>30</td>\n",
              "      <td>16</td>\n",
              "      <td>149</td>\n",
              "      <td>34</td>\n",
              "      <td>175</td>\n",
              "      <td>0</td>\n",
              "      <td>454</td>\n",
              "    </tr>\n",
              "    <tr>\n",
              "      <th>1</th>\n",
              "      <td>andhra pradesh</td>\n",
              "      <td>ANANTAPUR</td>\n",
              "      <td>2001</td>\n",
              "      <td>23</td>\n",
              "      <td>30</td>\n",
              "      <td>7</td>\n",
              "      <td>118</td>\n",
              "      <td>24</td>\n",
              "      <td>154</td>\n",
              "      <td>0</td>\n",
              "      <td>356</td>\n",
              "    </tr>\n",
              "    <tr>\n",
              "      <th>2</th>\n",
              "      <td>andhra pradesh</td>\n",
              "      <td>CHITTOOR</td>\n",
              "      <td>2001</td>\n",
              "      <td>27</td>\n",
              "      <td>34</td>\n",
              "      <td>14</td>\n",
              "      <td>112</td>\n",
              "      <td>83</td>\n",
              "      <td>186</td>\n",
              "      <td>0</td>\n",
              "      <td>456</td>\n",
              "    </tr>\n",
              "    <tr>\n",
              "      <th>3</th>\n",
              "      <td>andhra pradesh</td>\n",
              "      <td>CUDDAPAH</td>\n",
              "      <td>2001</td>\n",
              "      <td>20</td>\n",
              "      <td>20</td>\n",
              "      <td>17</td>\n",
              "      <td>126</td>\n",
              "      <td>38</td>\n",
              "      <td>57</td>\n",
              "      <td>0</td>\n",
              "      <td>278</td>\n",
              "    </tr>\n",
              "    <tr>\n",
              "      <th>4</th>\n",
              "      <td>andhra pradesh</td>\n",
              "      <td>EAST GODAVARI</td>\n",
              "      <td>2001</td>\n",
              "      <td>23</td>\n",
              "      <td>26</td>\n",
              "      <td>12</td>\n",
              "      <td>109</td>\n",
              "      <td>58</td>\n",
              "      <td>247</td>\n",
              "      <td>0</td>\n",
              "      <td>475</td>\n",
              "    </tr>\n",
              "  </tbody>\n",
              "</table>\n",
              "</div>"
            ],
            "text/plain": [
              "         STATE/UT       DISTRICT  ...  Importation of Girls  Total\n",
              "0  andhra pradesh       ADILABAD  ...                     0    454\n",
              "1  andhra pradesh      ANANTAPUR  ...                     0    356\n",
              "2  andhra pradesh       CHITTOOR  ...                     0    456\n",
              "3  andhra pradesh       CUDDAPAH  ...                     0    278\n",
              "4  andhra pradesh  EAST GODAVARI  ...                     0    475\n",
              "\n",
              "[5 rows x 11 columns]"
            ]
          },
          "metadata": {
            "tags": []
          },
          "execution_count": 19
        }
      ]
    },
    {
      "cell_type": "code",
      "metadata": {
        "id": "AuuDCqrDyRvu"
      },
      "source": [
        "df2 = df[['Year']]"
      ],
      "execution_count": 20,
      "outputs": []
    },
    {
      "cell_type": "code",
      "metadata": {
        "colab": {
          "base_uri": "https://localhost:8080/",
          "height": 204
        },
        "id": "aCAW0CbIypEh",
        "outputId": "488ef78e-cf56-484b-e101-8f6a8343b63c"
      },
      "source": [
        "df2.head()"
      ],
      "execution_count": 21,
      "outputs": [
        {
          "output_type": "execute_result",
          "data": {
            "text/html": [
              "<div>\n",
              "<style scoped>\n",
              "    .dataframe tbody tr th:only-of-type {\n",
              "        vertical-align: middle;\n",
              "    }\n",
              "\n",
              "    .dataframe tbody tr th {\n",
              "        vertical-align: top;\n",
              "    }\n",
              "\n",
              "    .dataframe thead th {\n",
              "        text-align: right;\n",
              "    }\n",
              "</style>\n",
              "<table border=\"1\" class=\"dataframe\">\n",
              "  <thead>\n",
              "    <tr style=\"text-align: right;\">\n",
              "      <th></th>\n",
              "      <th>Year</th>\n",
              "    </tr>\n",
              "  </thead>\n",
              "  <tbody>\n",
              "    <tr>\n",
              "      <th>0</th>\n",
              "      <td>2001</td>\n",
              "    </tr>\n",
              "    <tr>\n",
              "      <th>1</th>\n",
              "      <td>2001</td>\n",
              "    </tr>\n",
              "    <tr>\n",
              "      <th>2</th>\n",
              "      <td>2001</td>\n",
              "    </tr>\n",
              "    <tr>\n",
              "      <th>3</th>\n",
              "      <td>2001</td>\n",
              "    </tr>\n",
              "    <tr>\n",
              "      <th>4</th>\n",
              "      <td>2001</td>\n",
              "    </tr>\n",
              "  </tbody>\n",
              "</table>\n",
              "</div>"
            ],
            "text/plain": [
              "   Year\n",
              "0  2001\n",
              "1  2001\n",
              "2  2001\n",
              "3  2001\n",
              "4  2001"
            ]
          },
          "metadata": {
            "tags": []
          },
          "execution_count": 21
        }
      ]
    },
    {
      "cell_type": "code",
      "metadata": {
        "colab": {
          "base_uri": "https://localhost:8080/"
        },
        "id": "nM0fp6aFyqzO",
        "outputId": "7511afbe-5484-439c-8d77-7e882e22db34"
      },
      "source": [
        "df2['Total'] = df['Total']"
      ],
      "execution_count": 22,
      "outputs": [
        {
          "output_type": "stream",
          "text": [
            "/usr/local/lib/python3.7/dist-packages/ipykernel_launcher.py:1: SettingWithCopyWarning: \n",
            "A value is trying to be set on a copy of a slice from a DataFrame.\n",
            "Try using .loc[row_indexer,col_indexer] = value instead\n",
            "\n",
            "See the caveats in the documentation: https://pandas.pydata.org/pandas-docs/stable/user_guide/indexing.html#returning-a-view-versus-a-copy\n",
            "  \"\"\"Entry point for launching an IPython kernel.\n"
          ],
          "name": "stderr"
        }
      ]
    },
    {
      "cell_type": "code",
      "metadata": {
        "colab": {
          "base_uri": "https://localhost:8080/",
          "height": 204
        },
        "id": "Lij_2E4jzP1c",
        "outputId": "94e6ae63-8cdb-4a23-8e23-57cad23a8b5e"
      },
      "source": [
        "df2.head()"
      ],
      "execution_count": 23,
      "outputs": [
        {
          "output_type": "execute_result",
          "data": {
            "text/html": [
              "<div>\n",
              "<style scoped>\n",
              "    .dataframe tbody tr th:only-of-type {\n",
              "        vertical-align: middle;\n",
              "    }\n",
              "\n",
              "    .dataframe tbody tr th {\n",
              "        vertical-align: top;\n",
              "    }\n",
              "\n",
              "    .dataframe thead th {\n",
              "        text-align: right;\n",
              "    }\n",
              "</style>\n",
              "<table border=\"1\" class=\"dataframe\">\n",
              "  <thead>\n",
              "    <tr style=\"text-align: right;\">\n",
              "      <th></th>\n",
              "      <th>Year</th>\n",
              "      <th>Total</th>\n",
              "    </tr>\n",
              "  </thead>\n",
              "  <tbody>\n",
              "    <tr>\n",
              "      <th>0</th>\n",
              "      <td>2001</td>\n",
              "      <td>454</td>\n",
              "    </tr>\n",
              "    <tr>\n",
              "      <th>1</th>\n",
              "      <td>2001</td>\n",
              "      <td>356</td>\n",
              "    </tr>\n",
              "    <tr>\n",
              "      <th>2</th>\n",
              "      <td>2001</td>\n",
              "      <td>456</td>\n",
              "    </tr>\n",
              "    <tr>\n",
              "      <th>3</th>\n",
              "      <td>2001</td>\n",
              "      <td>278</td>\n",
              "    </tr>\n",
              "    <tr>\n",
              "      <th>4</th>\n",
              "      <td>2001</td>\n",
              "      <td>475</td>\n",
              "    </tr>\n",
              "  </tbody>\n",
              "</table>\n",
              "</div>"
            ],
            "text/plain": [
              "   Year  Total\n",
              "0  2001    454\n",
              "1  2001    356\n",
              "2  2001    456\n",
              "3  2001    278\n",
              "4  2001    475"
            ]
          },
          "metadata": {
            "tags": []
          },
          "execution_count": 23
        }
      ]
    },
    {
      "cell_type": "code",
      "metadata": {
        "id": "Gfm4bIKW0ska"
      },
      "source": [
        "df2 = df2.groupby(df2['Year'])['Total'].sum()"
      ],
      "execution_count": 24,
      "outputs": []
    },
    {
      "cell_type": "code",
      "metadata": {
        "colab": {
          "base_uri": "https://localhost:8080/"
        },
        "id": "u47WpTY_1Bhc",
        "outputId": "4df6b4ba-b2f6-4745-dc5b-eed56873f3ba"
      },
      "source": [
        "df2.head(20)"
      ],
      "execution_count": 25,
      "outputs": [
        {
          "output_type": "execute_result",
          "data": {
            "text/plain": [
              "Year\n",
              "2001    261450\n",
              "2002    262224\n",
              "2003    262728\n",
              "2004    287230\n",
              "2005    287046\n",
              "2006    308316\n",
              "2007    349842\n",
              "2008    373232\n",
              "2009    389670\n",
              "2010    410018\n",
              "2011    438284\n",
              "2012    465056\n",
              "2013    591792\n",
              "2014    634722\n",
              "Name: Total, dtype: int64"
            ]
          },
          "metadata": {
            "tags": []
          },
          "execution_count": 25
        }
      ]
    },
    {
      "cell_type": "code",
      "metadata": {
        "colab": {
          "base_uri": "https://localhost:8080/",
          "height": 463
        },
        "id": "L5PDn2YazocB",
        "outputId": "8d10dbb8-6970-4755-af10-ff11fe9a592e"
      },
      "source": [
        "df2.plot(kind = 'bar', figsize=(20, 7), color = 'crimson')\n",
        "plt.title('Total Crimes commited against women over the years')"
      ],
      "execution_count": 26,
      "outputs": [
        {
          "output_type": "execute_result",
          "data": {
            "text/plain": [
              "Text(0.5, 1.0, 'Total Crimes commited against women over the years')"
            ]
          },
          "metadata": {
            "tags": []
          },
          "execution_count": 26
        },
        {
          "output_type": "display_data",
          "data": {
            "image/png": "[encoded data removed]",
            "text/plain": [
              "<Figure size 1440x504 with 1 Axes>"
            ]
          },
          "metadata": {
            "tags": [],
            "needs_background": "light"
          }
        }
      ]
    },
    {
      "cell_type": "markdown",
      "metadata": {
        "id": "CnBaoi1gsNLl"
      },
      "source": [
        "#Plotting a bar graph to depict the extent of crimes commited in various Indian States"
      ]
    },
    {
      "cell_type": "code",
      "metadata": {
        "id": "hNm2fHY437R4"
      },
      "source": [
        "df2 = df.groupby(df['STATE/UT'])['Total'].sum().sort_values(ascending = True)"
      ],
      "execution_count": 37,
      "outputs": []
    },
    {
      "cell_type": "code",
      "metadata": {
        "colab": {
          "base_uri": "https://localhost:8080/"
        },
        "id": "R9eLTXAO6K_g",
        "outputId": "7ca3bd84-3462-455c-c6c1-043d18b37589"
      },
      "source": [
        "df2.head()"
      ],
      "execution_count": 38,
      "outputs": [
        {
          "output_type": "execute_result",
          "data": {
            "text/plain": [
              "STATE/UT\n",
              "lakshadweep       54\n",
              "daman & diu      230\n",
              "d & n haveli     566\n",
              "nagaland        1072\n",
              "sikkim          1482\n",
              "Name: Total, dtype: int64"
            ]
          },
          "metadata": {
            "tags": []
          },
          "execution_count": 38
        }
      ]
    },
    {
      "cell_type": "code",
      "metadata": {
        "colab": {
          "base_uri": "https://localhost:8080/",
          "height": 762
        },
        "id": "7HCGtJxS6OoY",
        "outputId": "7099a240-87e1-4ed6-a99d-f8031c88e45b"
      },
      "source": [
        "df2.plot(kind = 'bar', figsize=(25, 15), color = 'crimson')\n",
        "plt.title('Total Crimes commited against women across States')"
      ],
      "execution_count": 39,
      "outputs": [
        {
          "output_type": "execute_result",
          "data": {
            "text/plain": [
              "Text(0.5, 1.0, 'Total Crimes commited against women across States')"
            ]
          },
          "metadata": {
            "tags": []
          },
          "execution_count": 39
        },
        {
          "output_type": "display_data",
          "data": {
            "image/png": "[encoded data removed]",
            "text/plain": [
              "<Figure size 1800x1080 with 1 Axes>"
            ]
          },
          "metadata": {
            "tags": [],
            "needs_background": "light"
          }
        }
      ]
    },
    {
      "cell_type": "markdown",
      "metadata": {
        "id": "JpC5E64jsXpn"
      },
      "source": [
        "From the Bar graph we can see that the state Uttar Pradesh has the most of number of crimes commited against women, followed by Andhra Pradesh"
      ]
    },
    {
      "cell_type": "markdown",
      "metadata": {
        "id": "QxyiFqlOs3AY"
      },
      "source": [
        "#Depicting the total number of crimes commited against women, on the Indian Map"
      ]
    },
    {
      "cell_type": "code",
      "metadata": {
        "id": "jYPDxaio6gRX"
      },
      "source": [
        "df3=df.groupby(df['STATE/UT'])['Total'].sum().to_frame(name = 'Total').reset_index()"
      ],
      "execution_count": 30,
      "outputs": []
    },
    {
      "cell_type": "code",
      "metadata": {
        "colab": {
          "base_uri": "https://localhost:8080/",
          "height": 1000
        },
        "id": "4Sue61RV7Msa",
        "outputId": "74eb1412-2baa-45ae-fbb8-2e78174a9fe4"
      },
      "source": [
        "df3.head(36)"
      ],
      "execution_count": 31,
      "outputs": [
        {
          "output_type": "execute_result",
          "data": {
            "text/html": [
              "<div>\n",
              "<style scoped>\n",
              "    .dataframe tbody tr th:only-of-type {\n",
              "        vertical-align: middle;\n",
              "    }\n",
              "\n",
              "    .dataframe tbody tr th {\n",
              "        vertical-align: top;\n",
              "    }\n",
              "\n",
              "    .dataframe thead th {\n",
              "        text-align: right;\n",
              "    }\n",
              "</style>\n",
              "<table border=\"1\" class=\"dataframe\">\n",
              "  <thead>\n",
              "    <tr style=\"text-align: right;\">\n",
              "      <th></th>\n",
              "      <th>STATE/UT</th>\n",
              "      <th>Total</th>\n",
              "    </tr>\n",
              "  </thead>\n",
              "  <tbody>\n",
              "    <tr>\n",
              "      <th>0</th>\n",
              "      <td>a &amp; n islands</td>\n",
              "      <td>1568</td>\n",
              "    </tr>\n",
              "    <tr>\n",
              "      <th>1</th>\n",
              "      <td>andhra pradesh</td>\n",
              "      <td>575354</td>\n",
              "    </tr>\n",
              "    <tr>\n",
              "      <th>2</th>\n",
              "      <td>arunachal pradesh</td>\n",
              "      <td>5312</td>\n",
              "    </tr>\n",
              "    <tr>\n",
              "      <th>3</th>\n",
              "      <td>assam</td>\n",
              "      <td>259364</td>\n",
              "    </tr>\n",
              "    <tr>\n",
              "      <th>4</th>\n",
              "      <td>bihar</td>\n",
              "      <td>208376</td>\n",
              "    </tr>\n",
              "    <tr>\n",
              "      <th>5</th>\n",
              "      <td>chandigarh</td>\n",
              "      <td>6052</td>\n",
              "    </tr>\n",
              "    <tr>\n",
              "      <th>6</th>\n",
              "      <td>chhattisgarh</td>\n",
              "      <td>118386</td>\n",
              "    </tr>\n",
              "    <tr>\n",
              "      <th>7</th>\n",
              "      <td>d &amp; n haveli</td>\n",
              "      <td>566</td>\n",
              "    </tr>\n",
              "    <tr>\n",
              "      <th>8</th>\n",
              "      <td>daman &amp; diu</td>\n",
              "      <td>230</td>\n",
              "    </tr>\n",
              "    <tr>\n",
              "      <th>9</th>\n",
              "      <td>delhi</td>\n",
              "      <td>152162</td>\n",
              "    </tr>\n",
              "    <tr>\n",
              "      <th>10</th>\n",
              "      <td>goa</td>\n",
              "      <td>4124</td>\n",
              "    </tr>\n",
              "    <tr>\n",
              "      <th>11</th>\n",
              "      <td>gujarat</td>\n",
              "      <td>220306</td>\n",
              "    </tr>\n",
              "    <tr>\n",
              "      <th>12</th>\n",
              "      <td>haryana</td>\n",
              "      <td>147924</td>\n",
              "    </tr>\n",
              "    <tr>\n",
              "      <th>13</th>\n",
              "      <td>himachal pradesh</td>\n",
              "      <td>27174</td>\n",
              "    </tr>\n",
              "    <tr>\n",
              "      <th>14</th>\n",
              "      <td>jammu &amp; kashmir</td>\n",
              "      <td>71692</td>\n",
              "    </tr>\n",
              "    <tr>\n",
              "      <th>15</th>\n",
              "      <td>jharkhand</td>\n",
              "      <td>79580</td>\n",
              "    </tr>\n",
              "    <tr>\n",
              "      <th>16</th>\n",
              "      <td>karnataka</td>\n",
              "      <td>179160</td>\n",
              "    </tr>\n",
              "    <tr>\n",
              "      <th>17</th>\n",
              "      <td>kerala</td>\n",
              "      <td>225176</td>\n",
              "    </tr>\n",
              "    <tr>\n",
              "      <th>18</th>\n",
              "      <td>lakshadweep</td>\n",
              "      <td>54</td>\n",
              "    </tr>\n",
              "    <tr>\n",
              "      <th>19</th>\n",
              "      <td>madhya pradesh</td>\n",
              "      <td>467086</td>\n",
              "    </tr>\n",
              "    <tr>\n",
              "      <th>20</th>\n",
              "      <td>maharashtra</td>\n",
              "      <td>429584</td>\n",
              "    </tr>\n",
              "    <tr>\n",
              "      <th>21</th>\n",
              "      <td>manipur</td>\n",
              "      <td>5586</td>\n",
              "    </tr>\n",
              "    <tr>\n",
              "      <th>22</th>\n",
              "      <td>meghalaya</td>\n",
              "      <td>5410</td>\n",
              "    </tr>\n",
              "    <tr>\n",
              "      <th>23</th>\n",
              "      <td>mizoram</td>\n",
              "      <td>4306</td>\n",
              "    </tr>\n",
              "    <tr>\n",
              "      <th>24</th>\n",
              "      <td>nagaland</td>\n",
              "      <td>1072</td>\n",
              "    </tr>\n",
              "    <tr>\n",
              "      <th>25</th>\n",
              "      <td>odisha</td>\n",
              "      <td>203794</td>\n",
              "    </tr>\n",
              "    <tr>\n",
              "      <th>26</th>\n",
              "      <td>puducherry</td>\n",
              "      <td>2718</td>\n",
              "    </tr>\n",
              "    <tr>\n",
              "      <th>27</th>\n",
              "      <td>punjab</td>\n",
              "      <td>78258</td>\n",
              "    </tr>\n",
              "    <tr>\n",
              "      <th>28</th>\n",
              "      <td>rajasthan</td>\n",
              "      <td>470186</td>\n",
              "    </tr>\n",
              "    <tr>\n",
              "      <th>29</th>\n",
              "      <td>sikkim</td>\n",
              "      <td>1482</td>\n",
              "    </tr>\n",
              "    <tr>\n",
              "      <th>30</th>\n",
              "      <td>tamil nadu</td>\n",
              "      <td>162756</td>\n",
              "    </tr>\n",
              "    <tr>\n",
              "      <th>31</th>\n",
              "      <td>telangana</td>\n",
              "      <td>25356</td>\n",
              "    </tr>\n",
              "    <tr>\n",
              "      <th>32</th>\n",
              "      <td>tripura</td>\n",
              "      <td>31558</td>\n",
              "    </tr>\n",
              "    <tr>\n",
              "      <th>33</th>\n",
              "      <td>uttar pradesh</td>\n",
              "      <td>582398</td>\n",
              "    </tr>\n",
              "    <tr>\n",
              "      <th>34</th>\n",
              "      <td>uttarakhand</td>\n",
              "      <td>29524</td>\n",
              "    </tr>\n",
              "    <tr>\n",
              "      <th>35</th>\n",
              "      <td>west bengal</td>\n",
              "      <td>537976</td>\n",
              "    </tr>\n",
              "  </tbody>\n",
              "</table>\n",
              "</div>"
            ],
            "text/plain": [
              "             STATE/UT   Total\n",
              "0       a & n islands    1568\n",
              "1      andhra pradesh  575354\n",
              "2   arunachal pradesh    5312\n",
              "3               assam  259364\n",
              "4               bihar  208376\n",
              "5          chandigarh    6052\n",
              "6        chhattisgarh  118386\n",
              "7        d & n haveli     566\n",
              "8         daman & diu     230\n",
              "9               delhi  152162\n",
              "10                goa    4124\n",
              "11            gujarat  220306\n",
              "12            haryana  147924\n",
              "13   himachal pradesh   27174\n",
              "14    jammu & kashmir   71692\n",
              "15          jharkhand   79580\n",
              "16          karnataka  179160\n",
              "17             kerala  225176\n",
              "18        lakshadweep      54\n",
              "19     madhya pradesh  467086\n",
              "20        maharashtra  429584\n",
              "21            manipur    5586\n",
              "22          meghalaya    5410\n",
              "23            mizoram    4306\n",
              "24           nagaland    1072\n",
              "25             odisha  203794\n",
              "26         puducherry    2718\n",
              "27             punjab   78258\n",
              "28          rajasthan  470186\n",
              "29             sikkim    1482\n",
              "30         tamil nadu  162756\n",
              "31          telangana   25356\n",
              "32            tripura   31558\n",
              "33      uttar pradesh  582398\n",
              "34        uttarakhand   29524\n",
              "35        west bengal  537976"
            ]
          },
          "metadata": {
            "tags": []
          },
          "execution_count": 31
        }
      ]
    },
    {
      "cell_type": "code",
      "metadata": {
        "colab": {
          "base_uri": "https://localhost:8080/",
          "height": 1000
        },
        "id": "9po9iQU27dJp",
        "outputId": "8f767220-de37-46f8-f828-58c8d2888c4a"
      },
      "source": [
        "fp = \"IND_adm1.shx\"\n",
        "map_df = gpd.read_file(fp)\n",
        "map_df.plot()\n",
        "map_df.head(36)"
      ],
      "execution_count": 32,
      "outputs": [
        {
          "output_type": "execute_result",
          "data": {
            "text/html": [
              "<div>\n",
              "<style scoped>\n",
              "    .dataframe tbody tr th:only-of-type {\n",
              "        vertical-align: middle;\n",
              "    }\n",
              "\n",
              "    .dataframe tbody tr th {\n",
              "        vertical-align: top;\n",
              "    }\n",
              "\n",
              "    .dataframe thead th {\n",
              "        text-align: right;\n",
              "    }\n",
              "</style>\n",
              "<table border=\"1\" class=\"dataframe\">\n",
              "  <thead>\n",
              "    <tr style=\"text-align: right;\">\n",
              "      <th></th>\n",
              "      <th>geometry</th>\n",
              "    </tr>\n",
              "  </thead>\n",
              "  <tbody>\n",
              "    <tr>\n",
              "      <th>0</th>\n",
              "      <td>MULTIPOLYGON (((93.78773 6.85264, 93.78849 6.8...</td>\n",
              "    </tr>\n",
              "    <tr>\n",
              "      <th>1</th>\n",
              "      <td>MULTIPOLYGON (((80.27458 13.45958, 80.27458 13...</td>\n",
              "    </tr>\n",
              "    <tr>\n",
              "      <th>2</th>\n",
              "      <td>POLYGON ((96.15778 29.38310, 96.16380 29.37668...</td>\n",
              "    </tr>\n",
              "    <tr>\n",
              "      <th>3</th>\n",
              "      <td>MULTIPOLYGON (((89.87145 25.53730, 89.87118 25...</td>\n",
              "    </tr>\n",
              "    <tr>\n",
              "      <th>4</th>\n",
              "      <td>MULTIPOLYGON (((88.10548 26.53904, 88.10505 26...</td>\n",
              "    </tr>\n",
              "    <tr>\n",
              "      <th>5</th>\n",
              "      <td>POLYGON ((76.80293 30.67548, 76.79437 30.66932...</td>\n",
              "    </tr>\n",
              "    <tr>\n",
              "      <th>6</th>\n",
              "      <td>POLYGON ((83.32760 24.09965, 83.34575 24.09707...</td>\n",
              "    </tr>\n",
              "    <tr>\n",
              "      <th>7</th>\n",
              "      <td>POLYGON ((73.02468 20.09630, 73.01955 20.10502...</td>\n",
              "    </tr>\n",
              "    <tr>\n",
              "      <th>8</th>\n",
              "      <td>MULTIPOLYGON (((72.86014 20.47096, 72.86340 20...</td>\n",
              "    </tr>\n",
              "    <tr>\n",
              "      <th>9</th>\n",
              "      <td>POLYGON ((77.32713 28.68516, 77.32539 28.68250...</td>\n",
              "    </tr>\n",
              "    <tr>\n",
              "      <th>10</th>\n",
              "      <td>MULTIPOLYGON (((73.78181 15.35569, 73.78181 15...</td>\n",
              "    </tr>\n",
              "    <tr>\n",
              "      <th>11</th>\n",
              "      <td>MULTIPOLYGON (((70.86097 20.75292, 70.86097 20...</td>\n",
              "    </tr>\n",
              "    <tr>\n",
              "      <th>12</th>\n",
              "      <td>POLYGON ((76.83715 30.87887, 76.85243 30.87069...</td>\n",
              "    </tr>\n",
              "    <tr>\n",
              "      <th>13</th>\n",
              "      <td>POLYGON ((76.80276 33.23666, 76.80630 33.23623...</td>\n",
              "    </tr>\n",
              "    <tr>\n",
              "      <th>14</th>\n",
              "      <td>POLYGON ((77.89957 35.42789, 77.90297 35.42759...</td>\n",
              "    </tr>\n",
              "    <tr>\n",
              "      <th>15</th>\n",
              "      <td>POLYGON ((87.59989 25.31466, 87.60688 25.31138...</td>\n",
              "    </tr>\n",
              "    <tr>\n",
              "      <th>16</th>\n",
              "      <td>MULTIPOLYGON (((74.67097 13.19986, 74.67097 13...</td>\n",
              "    </tr>\n",
              "    <tr>\n",
              "      <th>17</th>\n",
              "      <td>MULTIPOLYGON (((76.46736 9.54097, 76.46736 9.5...</td>\n",
              "    </tr>\n",
              "    <tr>\n",
              "      <th>18</th>\n",
              "      <td>MULTIPOLYGON (((73.01014 8.28042, 73.01014 8.2...</td>\n",
              "    </tr>\n",
              "    <tr>\n",
              "      <th>19</th>\n",
              "      <td>POLYGON ((78.36465 26.86884, 78.36688 26.86259...</td>\n",
              "    </tr>\n",
              "    <tr>\n",
              "      <th>20</th>\n",
              "      <td>MULTIPOLYGON (((73.45597 15.88986, 73.45597 15...</td>\n",
              "    </tr>\n",
              "    <tr>\n",
              "      <th>21</th>\n",
              "      <td>POLYGON ((94.57723 25.64833, 94.57609 25.64470...</td>\n",
              "    </tr>\n",
              "    <tr>\n",
              "      <th>22</th>\n",
              "      <td>POLYGON ((91.85384 26.10479, 91.86470 26.10035...</td>\n",
              "    </tr>\n",
              "    <tr>\n",
              "      <th>23</th>\n",
              "      <td>POLYGON ((92.80080 24.41905, 92.80370 24.41879...</td>\n",
              "    </tr>\n",
              "    <tr>\n",
              "      <th>24</th>\n",
              "      <td>POLYGON ((95.21445 26.93695, 95.21706 26.93420...</td>\n",
              "    </tr>\n",
              "    <tr>\n",
              "      <th>25</th>\n",
              "      <td>MULTIPOLYGON (((84.76986 19.10597, 84.76986 19...</td>\n",
              "    </tr>\n",
              "    <tr>\n",
              "      <th>26</th>\n",
              "      <td>MULTIPOLYGON (((79.84486 10.82653, 79.84486 10...</td>\n",
              "    </tr>\n",
              "    <tr>\n",
              "      <th>27</th>\n",
              "      <td>POLYGON ((75.86877 32.48868, 75.88712 32.47203...</td>\n",
              "    </tr>\n",
              "    <tr>\n",
              "      <th>28</th>\n",
              "      <td>POLYGON ((73.88944 29.97761, 73.89118 29.97007...</td>\n",
              "    </tr>\n",
              "    <tr>\n",
              "      <th>29</th>\n",
              "      <td>POLYGON ((88.64526 28.09912, 88.65411 28.08984...</td>\n",
              "    </tr>\n",
              "    <tr>\n",
              "      <th>30</th>\n",
              "      <td>MULTIPOLYGON (((77.55596 8.07903, 77.55596 8.0...</td>\n",
              "    </tr>\n",
              "    <tr>\n",
              "      <th>31</th>\n",
              "      <td>POLYGON ((78.33625 19.88319, 78.34669 19.88140...</td>\n",
              "    </tr>\n",
              "    <tr>\n",
              "      <th>32</th>\n",
              "      <td>POLYGON ((92.18520 24.52287, 92.18896 24.52019...</td>\n",
              "    </tr>\n",
              "    <tr>\n",
              "      <th>33</th>\n",
              "      <td>POLYGON ((77.58468 30.40878, 77.58639 30.40801...</td>\n",
              "    </tr>\n",
              "    <tr>\n",
              "      <th>34</th>\n",
              "      <td>POLYGON ((79.19478 31.35362, 79.19817 31.35196...</td>\n",
              "    </tr>\n",
              "    <tr>\n",
              "      <th>35</th>\n",
              "      <td>MULTIPOLYGON (((88.01861 21.57278, 88.01889 21...</td>\n",
              "    </tr>\n",
              "  </tbody>\n",
              "</table>\n",
              "</div>"
            ],
            "text/plain": [
              "                                             geometry\n",
              "0   MULTIPOLYGON (((93.78773 6.85264, 93.78849 6.8...\n",
              "1   MULTIPOLYGON (((80.27458 13.45958, 80.27458 13...\n",
              "2   POLYGON ((96.15778 29.38310, 96.16380 29.37668...\n",
              "3   MULTIPOLYGON (((89.87145 25.53730, 89.87118 25...\n",
              "4   MULTIPOLYGON (((88.10548 26.53904, 88.10505 26...\n",
              "5   POLYGON ((76.80293 30.67548, 76.79437 30.66932...\n",
              "6   POLYGON ((83.32760 24.09965, 83.34575 24.09707...\n",
              "7   POLYGON ((73.02468 20.09630, 73.01955 20.10502...\n",
              "8   MULTIPOLYGON (((72.86014 20.47096, 72.86340 20...\n",
              "9   POLYGON ((77.32713 28.68516, 77.32539 28.68250...\n",
              "10  MULTIPOLYGON (((73.78181 15.35569, 73.78181 15...\n",
              "11  MULTIPOLYGON (((70.86097 20.75292, 70.86097 20...\n",
              "12  POLYGON ((76.83715 30.87887, 76.85243 30.87069...\n",
              "13  POLYGON ((76.80276 33.23666, 76.80630 33.23623...\n",
              "14  POLYGON ((77.89957 35.42789, 77.90297 35.42759...\n",
              "15  POLYGON ((87.59989 25.31466, 87.60688 25.31138...\n",
              "16  MULTIPOLYGON (((74.67097 13.19986, 74.67097 13...\n",
              "17  MULTIPOLYGON (((76.46736 9.54097, 76.46736 9.5...\n",
              "18  MULTIPOLYGON (((73.01014 8.28042, 73.01014 8.2...\n",
              "19  POLYGON ((78.36465 26.86884, 78.36688 26.86259...\n",
              "20  MULTIPOLYGON (((73.45597 15.88986, 73.45597 15...\n",
              "21  POLYGON ((94.57723 25.64833, 94.57609 25.64470...\n",
              "22  POLYGON ((91.85384 26.10479, 91.86470 26.10035...\n",
              "23  POLYGON ((92.80080 24.41905, 92.80370 24.41879...\n",
              "24  POLYGON ((95.21445 26.93695, 95.21706 26.93420...\n",
              "25  MULTIPOLYGON (((84.76986 19.10597, 84.76986 19...\n",
              "26  MULTIPOLYGON (((79.84486 10.82653, 79.84486 10...\n",
              "27  POLYGON ((75.86877 32.48868, 75.88712 32.47203...\n",
              "28  POLYGON ((73.88944 29.97761, 73.89118 29.97007...\n",
              "29  POLYGON ((88.64526 28.09912, 88.65411 28.08984...\n",
              "30  MULTIPOLYGON (((77.55596 8.07903, 77.55596 8.0...\n",
              "31  POLYGON ((78.33625 19.88319, 78.34669 19.88140...\n",
              "32  POLYGON ((92.18520 24.52287, 92.18896 24.52019...\n",
              "33  POLYGON ((77.58468 30.40878, 77.58639 30.40801...\n",
              "34  POLYGON ((79.19478 31.35362, 79.19817 31.35196...\n",
              "35  MULTIPOLYGON (((88.01861 21.57278, 88.01889 21..."
            ]
          },
          "metadata": {
            "tags": []
          },
          "execution_count": 32
        },
        {
          "output_type": "display_data",
          "data": {
            "image/png": "[encoded data removed]",
            "text/plain": [
              "<Figure size 432x288 with 1 Axes>"
            ]
          },
          "metadata": {
            "tags": [],
            "needs_background": "light"
          }
        }
      ]
    },
    {
      "cell_type": "code",
      "metadata": {
        "colab": {
          "base_uri": "https://localhost:8080/",
          "height": 1000
        },
        "id": "lKID4ps88x-y",
        "outputId": "faa44e02-da32-4f42-b5cc-1c84ff104e02"
      },
      "source": [
        "merged = map_df.join(df3)\n",
        "merged = merged[['STATE/UT', 'geometry', 'Total']]\n",
        "merged.head(36)"
      ],
      "execution_count": 33,
      "outputs": [
        {
          "output_type": "execute_result",
          "data": {
            "text/html": [
              "<div>\n",
              "<style scoped>\n",
              "    .dataframe tbody tr th:only-of-type {\n",
              "        vertical-align: middle;\n",
              "    }\n",
              "\n",
              "    .dataframe tbody tr th {\n",
              "        vertical-align: top;\n",
              "    }\n",
              "\n",
              "    .dataframe thead th {\n",
              "        text-align: right;\n",
              "    }\n",
              "</style>\n",
              "<table border=\"1\" class=\"dataframe\">\n",
              "  <thead>\n",
              "    <tr style=\"text-align: right;\">\n",
              "      <th></th>\n",
              "      <th>STATE/UT</th>\n",
              "      <th>geometry</th>\n",
              "      <th>Total</th>\n",
              "    </tr>\n",
              "  </thead>\n",
              "  <tbody>\n",
              "    <tr>\n",
              "      <th>0</th>\n",
              "      <td>a &amp; n islands</td>\n",
              "      <td>MULTIPOLYGON (((93.78773 6.85264, 93.78849 6.8...</td>\n",
              "      <td>1568</td>\n",
              "    </tr>\n",
              "    <tr>\n",
              "      <th>1</th>\n",
              "      <td>andhra pradesh</td>\n",
              "      <td>MULTIPOLYGON (((80.27458 13.45958, 80.27458 13...</td>\n",
              "      <td>575354</td>\n",
              "    </tr>\n",
              "    <tr>\n",
              "      <th>2</th>\n",
              "      <td>arunachal pradesh</td>\n",
              "      <td>POLYGON ((96.15778 29.38310, 96.16380 29.37668...</td>\n",
              "      <td>5312</td>\n",
              "    </tr>\n",
              "    <tr>\n",
              "      <th>3</th>\n",
              "      <td>assam</td>\n",
              "      <td>MULTIPOLYGON (((89.87145 25.53730, 89.87118 25...</td>\n",
              "      <td>259364</td>\n",
              "    </tr>\n",
              "    <tr>\n",
              "      <th>4</th>\n",
              "      <td>bihar</td>\n",
              "      <td>MULTIPOLYGON (((88.10548 26.53904, 88.10505 26...</td>\n",
              "      <td>208376</td>\n",
              "    </tr>\n",
              "    <tr>\n",
              "      <th>5</th>\n",
              "      <td>chandigarh</td>\n",
              "      <td>POLYGON ((76.80293 30.67548, 76.79437 30.66932...</td>\n",
              "      <td>6052</td>\n",
              "    </tr>\n",
              "    <tr>\n",
              "      <th>6</th>\n",
              "      <td>chhattisgarh</td>\n",
              "      <td>POLYGON ((83.32760 24.09965, 83.34575 24.09707...</td>\n",
              "      <td>118386</td>\n",
              "    </tr>\n",
              "    <tr>\n",
              "      <th>7</th>\n",
              "      <td>d &amp; n haveli</td>\n",
              "      <td>POLYGON ((73.02468 20.09630, 73.01955 20.10502...</td>\n",
              "      <td>566</td>\n",
              "    </tr>\n",
              "    <tr>\n",
              "      <th>8</th>\n",
              "      <td>daman &amp; diu</td>\n",
              "      <td>MULTIPOLYGON (((72.86014 20.47096, 72.86340 20...</td>\n",
              "      <td>230</td>\n",
              "    </tr>\n",
              "    <tr>\n",
              "      <th>9</th>\n",
              "      <td>delhi</td>\n",
              "      <td>POLYGON ((77.32713 28.68516, 77.32539 28.68250...</td>\n",
              "      <td>152162</td>\n",
              "    </tr>\n",
              "    <tr>\n",
              "      <th>10</th>\n",
              "      <td>goa</td>\n",
              "      <td>MULTIPOLYGON (((73.78181 15.35569, 73.78181 15...</td>\n",
              "      <td>4124</td>\n",
              "    </tr>\n",
              "    <tr>\n",
              "      <th>11</th>\n",
              "      <td>gujarat</td>\n",
              "      <td>MULTIPOLYGON (((70.86097 20.75292, 70.86097 20...</td>\n",
              "      <td>220306</td>\n",
              "    </tr>\n",
              "    <tr>\n",
              "      <th>12</th>\n",
              "      <td>haryana</td>\n",
              "      <td>POLYGON ((76.83715 30.87887, 76.85243 30.87069...</td>\n",
              "      <td>147924</td>\n",
              "    </tr>\n",
              "    <tr>\n",
              "      <th>13</th>\n",
              "      <td>himachal pradesh</td>\n",
              "      <td>POLYGON ((76.80276 33.23666, 76.80630 33.23623...</td>\n",
              "      <td>27174</td>\n",
              "    </tr>\n",
              "    <tr>\n",
              "      <th>14</th>\n",
              "      <td>jammu &amp; kashmir</td>\n",
              "      <td>POLYGON ((77.89957 35.42789, 77.90297 35.42759...</td>\n",
              "      <td>71692</td>\n",
              "    </tr>\n",
              "    <tr>\n",
              "      <th>15</th>\n",
              "      <td>jharkhand</td>\n",
              "      <td>POLYGON ((87.59989 25.31466, 87.60688 25.31138...</td>\n",
              "      <td>79580</td>\n",
              "    </tr>\n",
              "    <tr>\n",
              "      <th>16</th>\n",
              "      <td>karnataka</td>\n",
              "      <td>MULTIPOLYGON (((74.67097 13.19986, 74.67097 13...</td>\n",
              "      <td>179160</td>\n",
              "    </tr>\n",
              "    <tr>\n",
              "      <th>17</th>\n",
              "      <td>kerala</td>\n",
              "      <td>MULTIPOLYGON (((76.46736 9.54097, 76.46736 9.5...</td>\n",
              "      <td>225176</td>\n",
              "    </tr>\n",
              "    <tr>\n",
              "      <th>18</th>\n",
              "      <td>lakshadweep</td>\n",
              "      <td>MULTIPOLYGON (((73.01014 8.28042, 73.01014 8.2...</td>\n",
              "      <td>54</td>\n",
              "    </tr>\n",
              "    <tr>\n",
              "      <th>19</th>\n",
              "      <td>madhya pradesh</td>\n",
              "      <td>POLYGON ((78.36465 26.86884, 78.36688 26.86259...</td>\n",
              "      <td>467086</td>\n",
              "    </tr>\n",
              "    <tr>\n",
              "      <th>20</th>\n",
              "      <td>maharashtra</td>\n",
              "      <td>MULTIPOLYGON (((73.45597 15.88986, 73.45597 15...</td>\n",
              "      <td>429584</td>\n",
              "    </tr>\n",
              "    <tr>\n",
              "      <th>21</th>\n",
              "      <td>manipur</td>\n",
              "      <td>POLYGON ((94.57723 25.64833, 94.57609 25.64470...</td>\n",
              "      <td>5586</td>\n",
              "    </tr>\n",
              "    <tr>\n",
              "      <th>22</th>\n",
              "      <td>meghalaya</td>\n",
              "      <td>POLYGON ((91.85384 26.10479, 91.86470 26.10035...</td>\n",
              "      <td>5410</td>\n",
              "    </tr>\n",
              "    <tr>\n",
              "      <th>23</th>\n",
              "      <td>mizoram</td>\n",
              "      <td>POLYGON ((92.80080 24.41905, 92.80370 24.41879...</td>\n",
              "      <td>4306</td>\n",
              "    </tr>\n",
              "    <tr>\n",
              "      <th>24</th>\n",
              "      <td>nagaland</td>\n",
              "      <td>POLYGON ((95.21445 26.93695, 95.21706 26.93420...</td>\n",
              "      <td>1072</td>\n",
              "    </tr>\n",
              "    <tr>\n",
              "      <th>25</th>\n",
              "      <td>odisha</td>\n",
              "      <td>MULTIPOLYGON (((84.76986 19.10597, 84.76986 19...</td>\n",
              "      <td>203794</td>\n",
              "    </tr>\n",
              "    <tr>\n",
              "      <th>26</th>\n",
              "      <td>puducherry</td>\n",
              "      <td>MULTIPOLYGON (((79.84486 10.82653, 79.84486 10...</td>\n",
              "      <td>2718</td>\n",
              "    </tr>\n",
              "    <tr>\n",
              "      <th>27</th>\n",
              "      <td>punjab</td>\n",
              "      <td>POLYGON ((75.86877 32.48868, 75.88712 32.47203...</td>\n",
              "      <td>78258</td>\n",
              "    </tr>\n",
              "    <tr>\n",
              "      <th>28</th>\n",
              "      <td>rajasthan</td>\n",
              "      <td>POLYGON ((73.88944 29.97761, 73.89118 29.97007...</td>\n",
              "      <td>470186</td>\n",
              "    </tr>\n",
              "    <tr>\n",
              "      <th>29</th>\n",
              "      <td>sikkim</td>\n",
              "      <td>POLYGON ((88.64526 28.09912, 88.65411 28.08984...</td>\n",
              "      <td>1482</td>\n",
              "    </tr>\n",
              "    <tr>\n",
              "      <th>30</th>\n",
              "      <td>tamil nadu</td>\n",
              "      <td>MULTIPOLYGON (((77.55596 8.07903, 77.55596 8.0...</td>\n",
              "      <td>162756</td>\n",
              "    </tr>\n",
              "    <tr>\n",
              "      <th>31</th>\n",
              "      <td>telangana</td>\n",
              "      <td>POLYGON ((78.33625 19.88319, 78.34669 19.88140...</td>\n",
              "      <td>25356</td>\n",
              "    </tr>\n",
              "    <tr>\n",
              "      <th>32</th>\n",
              "      <td>tripura</td>\n",
              "      <td>POLYGON ((92.18520 24.52287, 92.18896 24.52019...</td>\n",
              "      <td>31558</td>\n",
              "    </tr>\n",
              "    <tr>\n",
              "      <th>33</th>\n",
              "      <td>uttar pradesh</td>\n",
              "      <td>POLYGON ((77.58468 30.40878, 77.58639 30.40801...</td>\n",
              "      <td>582398</td>\n",
              "    </tr>\n",
              "    <tr>\n",
              "      <th>34</th>\n",
              "      <td>uttarakhand</td>\n",
              "      <td>POLYGON ((79.19478 31.35362, 79.19817 31.35196...</td>\n",
              "      <td>29524</td>\n",
              "    </tr>\n",
              "    <tr>\n",
              "      <th>35</th>\n",
              "      <td>west bengal</td>\n",
              "      <td>MULTIPOLYGON (((88.01861 21.57278, 88.01889 21...</td>\n",
              "      <td>537976</td>\n",
              "    </tr>\n",
              "  </tbody>\n",
              "</table>\n",
              "</div>"
            ],
            "text/plain": [
              "             STATE/UT  ...   Total\n",
              "0       a & n islands  ...    1568\n",
              "1      andhra pradesh  ...  575354\n",
              "2   arunachal pradesh  ...    5312\n",
              "3               assam  ...  259364\n",
              "4               bihar  ...  208376\n",
              "5          chandigarh  ...    6052\n",
              "6        chhattisgarh  ...  118386\n",
              "7        d & n haveli  ...     566\n",
              "8         daman & diu  ...     230\n",
              "9               delhi  ...  152162\n",
              "10                goa  ...    4124\n",
              "11            gujarat  ...  220306\n",
              "12            haryana  ...  147924\n",
              "13   himachal pradesh  ...   27174\n",
              "14    jammu & kashmir  ...   71692\n",
              "15          jharkhand  ...   79580\n",
              "16          karnataka  ...  179160\n",
              "17             kerala  ...  225176\n",
              "18        lakshadweep  ...      54\n",
              "19     madhya pradesh  ...  467086\n",
              "20        maharashtra  ...  429584\n",
              "21            manipur  ...    5586\n",
              "22          meghalaya  ...    5410\n",
              "23            mizoram  ...    4306\n",
              "24           nagaland  ...    1072\n",
              "25             odisha  ...  203794\n",
              "26         puducherry  ...    2718\n",
              "27             punjab  ...   78258\n",
              "28          rajasthan  ...  470186\n",
              "29             sikkim  ...    1482\n",
              "30         tamil nadu  ...  162756\n",
              "31          telangana  ...   25356\n",
              "32            tripura  ...   31558\n",
              "33      uttar pradesh  ...  582398\n",
              "34        uttarakhand  ...   29524\n",
              "35        west bengal  ...  537976\n",
              "\n",
              "[36 rows x 3 columns]"
            ]
          },
          "metadata": {
            "tags": []
          },
          "execution_count": 33
        }
      ]
    },
    {
      "cell_type": "code",
      "metadata": {
        "id": "bspZL2h99YFa"
      },
      "source": [
        "variable = 'Total'"
      ],
      "execution_count": 34,
      "outputs": []
    },
    {
      "cell_type": "code",
      "metadata": {
        "id": "iSQ2HqjY9Y2p"
      },
      "source": [
        "vmin = 0\n",
        "vmax = merged['Total'].max()"
      ],
      "execution_count": 35,
      "outputs": []
    },
    {
      "cell_type": "code",
      "metadata": {
        "colab": {
          "base_uri": "https://localhost:8080/",
          "height": 605
        },
        "id": "0BzzbNyf9Ar-",
        "outputId": "04639121-a44e-454b-8145-5e5b3ad7afdf"
      },
      "source": [
        "fig, ax = plt.subplots(1, figsize=(30, 10))\n",
        "ax.axis('off')\n",
        "ax.set_title('Crimes Against Women in India', fontdict={'fontsize': '25', 'fontweight' : '3'})\n",
        "sm = plt.cm.ScalarMappable(cmap='OrRd',norm=plt.Normalize(vmin=vmin, vmax=vmax))\n",
        "sm.set_array([]) \n",
        "fig.colorbar(sm)\n",
        "merged.plot(column=variable, cmap='OrRd', linewidth=0.8, ax=ax, edgecolor='0.8')\n",
        "plt.show()"
      ],
      "execution_count": 36,
      "outputs": [
        {
          "output_type": "display_data",
          "data": {
            "image/png": "[encoded data removed]",
            "text/plain": [
              "<Figure size 2160x720 with 2 Axes>"
            ]
          },
          "metadata": {
            "tags": [],
            "needs_background": "light"
          }
        }
      ]
    },
    {
      "cell_type": "markdown",
      "metadata": {
        "id": "rWp9r-9rtI_y"
      },
      "source": [
        "We can see that the dark red coloured regions - Uttar Pradesh, Andhra Pradesh and West Bengal are the 3 states with a very high crime rate"
      ]
    }
  ]
}